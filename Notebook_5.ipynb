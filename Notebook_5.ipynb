{
 "cells": [
  {
   "cell_type": "markdown",
   "metadata": {
    "id": "Gp2WddtV9IwG"
   },
   "source": [
    "# Programa Ingenias+ Data Science"
   ]
  },
  {
   "cell_type": "markdown",
   "metadata": {
    "id": "H4M1yVbf9IwH"
   },
   "source": [
    "Como dijimos en clases anteriores, Python tiene implementadas muchas librerias para poder trabajar con datos. En la clase de hoy trabajaremos con una de ellas: `Numpy`."
   ]
  },
  {
   "cell_type": "markdown",
   "metadata": {
    "id": "GdTT8WeL9IwI"
   },
   "source": [
    "Antes de comenzar, vamos a hablar un poco de esta libreria o modulo.\n",
    "\n",
    "**Numpy** es una librería optimizada para realizar cálculos numéricos con vectores y matrices. A diferencia de otros lenguajes de programación, Python no posee en su estructura central la figura de matrices. Eso quiere decir que para poder trabajar con esta estructura de datos deberiamos trabajar con listas de listas. NumPy introduce el concepto de arrays o matrices."
   ]
  },
  {
   "cell_type": "markdown",
   "metadata": {
    "id": "qWkq3EHK9IwK"
   },
   "source": [
    "Al ser de código abierto, `numpy` posee una documentación muy amplia que es **SIEMPRE RECOMENDABLE** consultar."
   ]
  },
  {
   "cell_type": "markdown",
   "metadata": {
    "id": "nxe3KLUO9IwL"
   },
   "source": [
    "- [Documentacion NumPy](https://devdocs.io/numpy/)"
   ]
  },
  {
   "cell_type": "markdown",
   "metadata": {
    "id": "l1Ay3nSs9IwN"
   },
   "source": [
    "## Clase 4: Introduccion a NumPy"
   ]
  },
  {
   "cell_type": "markdown",
   "metadata": {
    "id": "X03mviQS9IyL"
   },
   "source": [
    "# Ejercicios\n",
    "\n",
    "1. Crear un arreglo de ceros de longitud 12\n",
    "2. Crear un arreglo de longitud 10 con ceros en todas sus posiciones y un 10 en la posición número 5\n",
    "3. Crear un arreglo que tenga los números del 10 al 49\n",
    "4. Crear una arreglo 2d de shape (3, 3) que tenga los números del 0 al 8\n",
    "5. Crear un arreglo de números aleatorios de longitud 100 y obtener su media y varianza\n",
    "6. Calcular la media de un arreglo usando np.sum\n",
    "7. Calcular la varianza de un arreglo usando np.sum y np.mean\n",
    "8. Crear un array de números aleatorios usando np.random.randn.\n"
   ]
  },
  {
   "cell_type": "code",
   "execution_count": 1,
   "metadata": {
    "id": "G0NMKT609IyM"
   },
   "outputs": [],
   "source": [
    "import numpy as np"
   ]
  },
  {
   "cell_type": "code",
   "execution_count": 6,
   "metadata": {},
   "outputs": [
    {
     "data": {
      "text/plain": [
       "array([0., 0., 0., 0., 0., 0., 0., 0., 0., 0., 0., 0.])"
      ]
     },
     "execution_count": 6,
     "metadata": {},
     "output_type": "execute_result"
    }
   ],
   "source": [
    "arreglo = np.zeros(12) #Crear un arreglo de ceros de longitud 12\n",
    "arreglo"
   ]
  },
  {
   "cell_type": "code",
   "execution_count": 12,
   "metadata": {},
   "outputs": [
    {
     "name": "stdout",
     "output_type": "stream",
     "text": [
      "[ 0.  0.  0.  0. 10. 10.  0.  0.  0.  0.  0.  0.]\n"
     ]
    }
   ],
   "source": [
    "arreglo[4]=10\n",
    "print(arreglo) #Crear un arreglo de longitud 10 con ceros en todas sus posiciones y un 10 en la posición número 5"
   ]
  },
  {
   "cell_type": "code",
   "execution_count": 13,
   "metadata": {},
   "outputs": [
    {
     "data": {
      "text/plain": [
       "array([10, 11, 12, 13, 14, 15, 16, 17, 18, 19, 20, 21, 22, 23, 24, 25, 26,\n",
       "       27, 28, 29, 30, 31, 32, 33, 34, 35, 36, 37, 38, 39, 40, 41, 42, 43,\n",
       "       44, 45, 46, 47, 48, 49])"
      ]
     },
     "execution_count": 13,
     "metadata": {},
     "output_type": "execute_result"
    }
   ],
   "source": [
    "np.arange (10,50) #Crear un arreglo que tenga los números del 10 al 49"
   ]
  },
  {
   "cell_type": "code",
   "execution_count": 20,
   "metadata": {},
   "outputs": [
    {
     "name": "stdout",
     "output_type": "stream",
     "text": [
      "[[0 1 2]\n",
      " [3 4 5]\n",
      " [6 7 8]]\n"
     ]
    }
   ],
   "source": [
    "arreglo4 = np.arange(9).reshape(3, 3) #Crear una arreglo 2d de shape (3, 3) que tenga los números del 0 al 8\n",
    "print(arreglo4)"
   ]
  },
  {
   "cell_type": "code",
   "execution_count": 26,
   "metadata": {},
   "outputs": [
    {
     "name": "stdout",
     "output_type": "stream",
     "text": [
      "[2.42828034e-01 4.90496589e-01 8.33439621e-01 6.45341750e-01\n",
      " 7.61051220e-03 8.56484809e-01 4.86220475e-01 4.88198089e-01\n",
      " 7.64943016e-01 3.12212824e-01 8.50561878e-01 6.20575022e-01\n",
      " 2.68779206e-01 5.97493896e-01 3.99481144e-01 1.19350153e-01\n",
      " 2.45051035e-01 2.62848725e-01 4.18475704e-01 8.45042440e-01\n",
      " 3.73175298e-01 8.12199067e-01 9.10389414e-01 8.43671587e-01\n",
      " 3.87917119e-03 8.94821234e-02 2.69567881e-01 1.26881949e-01\n",
      " 5.82703005e-01 6.81622677e-01 3.88096351e-02 5.86693111e-01\n",
      " 2.62489554e-01 9.63161889e-01 9.45673115e-01 7.86868340e-01\n",
      " 8.33867573e-01 6.57017618e-01 1.03204419e-01 7.50490240e-01\n",
      " 9.01080648e-01 3.57639357e-01 7.98194946e-01 9.92993228e-01\n",
      " 8.90847080e-01 5.39889547e-01 2.00653294e-02 2.30815045e-01\n",
      " 4.34044996e-01 4.48882162e-02 7.13402367e-01 2.25124244e-01\n",
      " 4.12698624e-01 9.72312048e-01 9.67407804e-01 7.45006928e-01\n",
      " 2.07098561e-01 7.81198113e-01 2.89054016e-01 1.24499092e-01\n",
      " 2.30701127e-02 4.70121028e-01 8.43434126e-01 1.49208688e-01\n",
      " 2.77538464e-01 9.43852939e-01 2.15317361e-01 3.72312319e-04\n",
      " 8.10402044e-01 7.15299174e-01 8.01909876e-01 1.03364785e-01\n",
      " 1.46866915e-01 4.97540969e-01 4.94485263e-01 5.96533822e-01\n",
      " 4.19654284e-01 2.57881611e-01 5.84581071e-01 3.92641034e-02\n",
      " 2.02731394e-01 5.23559807e-01 7.03261966e-01 1.66443888e-02\n",
      " 9.75024089e-01 9.39521716e-01 3.51895150e-01 5.64018262e-01\n",
      " 3.81760436e-01 3.98967121e-01 9.36010354e-01 7.54615038e-01\n",
      " 8.67579046e-01 2.92537663e-02 3.97946082e-01 5.93259833e-01\n",
      " 3.88177600e-01 8.86659501e-01 8.12347630e-01 5.80376753e-01]\n"
     ]
    }
   ],
   "source": [
    "arreglo5 = np.random.rand(100) #Crear un arreglo de números aleatorios de longitud 100 y obtener su media y varianza\n",
    "print(arreglo5)"
   ]
  },
  {
   "cell_type": "code",
   "execution_count": 27,
   "metadata": {},
   "outputs": [
    {
     "data": {
      "text/plain": [
       "0.5071985165999119"
      ]
     },
     "execution_count": 27,
     "metadata": {},
     "output_type": "execute_result"
    }
   ],
   "source": [
    "np.mean(arreglo5)"
   ]
  },
  {
   "cell_type": "code",
   "execution_count": 28,
   "metadata": {},
   "outputs": [
    {
     "data": {
      "text/plain": [
       "0.09194624824126418"
      ]
     },
     "execution_count": 28,
     "metadata": {},
     "output_type": "execute_result"
    }
   ],
   "source": [
    "np.var(arreglo5)"
   ]
  },
  {
   "cell_type": "code",
   "execution_count": 31,
   "metadata": {},
   "outputs": [
    {
     "name": "stdout",
     "output_type": "stream",
     "text": [
      "3.0\n"
     ]
    }
   ],
   "source": [
    "arreglo_media = np.array([1, 2, 3, 4, 5]) #Calcular la media de un arreglo usando np.sum\n",
    "media = np.sum(array_mean) / array_mean.size\n",
    "print(media)"
   ]
  },
  {
   "cell_type": "code",
   "execution_count": 32,
   "metadata": {},
   "outputs": [
    {
     "name": "stdout",
     "output_type": "stream",
     "text": [
      "[1 2 3 4 5]\n",
      "3.0\n",
      "2.0\n"
     ]
    }
   ],
   "source": [
    "arreglo_varianza = np.array([1, 2, 3, 4, 5]) #Calcular la varianza de un arreglo usando np.sum y np.mean\n",
    "media = np.mean(arreglo_varianza)\n",
    "varianza = np.sum((arreglo_media - media) ** 2) / arreglo_varianza.size\n",
    "print(arreglo_varianza)\n",
    "print(media)\n",
    "print(varianza)"
   ]
  },
  {
   "cell_type": "code",
   "execution_count": 33,
   "metadata": {},
   "outputs": [
    {
     "name": "stdout",
     "output_type": "stream",
     "text": [
      "[0.03084257 0.04536705 0.42942089 0.06300285 0.21671834 0.40326331\n",
      " 0.66690845 0.7519849  0.55970374 0.9061016  0.36118557 0.76754998\n",
      " 0.02680198 0.77046549 0.8362371  0.06890249 0.14010681 0.95875773\n",
      " 0.28243305 0.61926754 0.74825267 0.81338486 0.47584206 0.8231632\n",
      " 0.80155933 0.74968523 0.21221602 0.25878726 0.22104015 0.90036226]\n"
     ]
    }
   ],
   "source": [
    "arreglo8 = np.random.rand(30) #Crear un array de números aleatorios usando np.random.randn\n",
    "print(arreglo8)"
   ]
  },
  {
   "cell_type": "code",
   "execution_count": null,
   "metadata": {},
   "outputs": [],
   "source": []
  }
 ],
 "metadata": {
  "colab": {
   "provenance": []
  },
  "kernelspec": {
   "display_name": "Python 3 (ipykernel)",
   "language": "python",
   "name": "python3"
  },
  "language_info": {
   "codemirror_mode": {
    "name": "ipython",
    "version": 3
   },
   "file_extension": ".py",
   "mimetype": "text/x-python",
   "name": "python",
   "nbconvert_exporter": "python",
   "pygments_lexer": "ipython3",
   "version": "3.10.9"
  }
 },
 "nbformat": 4,
 "nbformat_minor": 1
}
